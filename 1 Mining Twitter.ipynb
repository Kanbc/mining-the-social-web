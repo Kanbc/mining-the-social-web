{
 "cells": [
  {
   "cell_type": "markdown",
   "metadata": {},
   "source": [
    "## Mining Twitter\n",
    "\n",
    "#### Twitter Python Library\n",
    "Source : https://github.com/bear/python-twitter\n",
    "\n",
    "#### Models\n",
    "* twitter.Category\n",
    "* twitter.DirectMessage\n",
    "* twitter.Hashtag\n",
    "* twitter.List\n",
    "* twitter.Media\n",
    "* twitter.Status\n",
    "* twitter.Trend\n",
    "* twitter.Url\n",
    "* twitter.User\n",
    "* twitter.UserStatus"
   ]
  },
  {
   "cell_type": "code",
   "execution_count": null,
   "metadata": {
    "collapsed": true
   },
   "outputs": [],
   "source": []
  },
  {
   "cell_type": "code",
   "execution_count": null,
   "metadata": {
    "collapsed": true
   },
   "outputs": [],
   "source": []
  },
  {
   "cell_type": "code",
   "execution_count": null,
   "metadata": {
    "collapsed": true
   },
   "outputs": [],
   "source": []
  }
 ],
 "metadata": {
  "kernelspec": {
   "display_name": "Python 3",
   "language": "python",
   "name": "python3"
  },
  "language_info": {
   "codemirror_mode": {
    "name": "ipython",
    "version": 3
   },
   "file_extension": ".py",
   "mimetype": "text/x-python",
   "name": "python",
   "nbconvert_exporter": "python",
   "pygments_lexer": "ipython3",
   "version": "3.6.1"
  }
 },
 "nbformat": 4,
 "nbformat_minor": 2
}
