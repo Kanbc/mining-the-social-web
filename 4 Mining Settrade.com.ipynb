{
 "cells": [
  {
   "cell_type": "markdown",
   "metadata": {},
   "source": [
    "*ถ้า error ให้ restart แล้ว run ใหม่*"
   ]
  },
  {
   "cell_type": "markdown",
   "metadata": {},
   "source": [
    "# Get รายชื่อหุ้นจาก Settrade to CSV file (use Scrapy & CSV)"
   ]
  },
  {
   "cell_type": "code",
   "execution_count": 1,
   "metadata": {
    "scrolled": true
   },
   "outputs": [
    {
     "name": "stderr",
     "output_type": "stream",
     "text": [
      "2017-12-27 10:59:21 [scrapy.utils.log] INFO: Scrapy 1.4.0 started (bot: scrapybot)\n",
      "2017-12-27 10:59:21 [scrapy.utils.log] INFO: Overridden settings: {'USER_AGENT': 'Mozilla/4.0 (compatible; MSIE 7.0; Windows NT 5.1)'}\n",
      "2017-12-27 10:59:21 [scrapy.middleware] INFO: Enabled extensions:\n",
      "['scrapy.extensions.corestats.CoreStats',\n",
      " 'scrapy.extensions.telnet.TelnetConsole',\n",
      " 'scrapy.extensions.memusage.MemoryUsage',\n",
      " 'scrapy.extensions.logstats.LogStats']\n",
      "2017-12-27 10:59:21 [scrapy.middleware] INFO: Enabled downloader middlewares:\n",
      "['scrapy.downloadermiddlewares.httpauth.HttpAuthMiddleware',\n",
      " 'scrapy.downloadermiddlewares.downloadtimeout.DownloadTimeoutMiddleware',\n",
      " 'scrapy.downloadermiddlewares.defaultheaders.DefaultHeadersMiddleware',\n",
      " 'scrapy.downloadermiddlewares.useragent.UserAgentMiddleware',\n",
      " 'scrapy.downloadermiddlewares.retry.RetryMiddleware',\n",
      " 'scrapy.downloadermiddlewares.redirect.MetaRefreshMiddleware',\n",
      " 'scrapy.downloadermiddlewares.httpcompression.HttpCompressionMiddleware',\n",
      " 'scrapy.downloadermiddlewares.redirect.RedirectMiddleware',\n",
      " 'scrapy.downloadermiddlewares.cookies.CookiesMiddleware',\n",
      " 'scrapy.downloadermiddlewares.httpproxy.HttpProxyMiddleware',\n",
      " 'scrapy.downloadermiddlewares.stats.DownloaderStats']\n",
      "2017-12-27 10:59:21 [scrapy.middleware] INFO: Enabled spider middlewares:\n",
      "['scrapy.spidermiddlewares.httperror.HttpErrorMiddleware',\n",
      " 'scrapy.spidermiddlewares.offsite.OffsiteMiddleware',\n",
      " 'scrapy.spidermiddlewares.referer.RefererMiddleware',\n",
      " 'scrapy.spidermiddlewares.urllength.UrlLengthMiddleware',\n",
      " 'scrapy.spidermiddlewares.depth.DepthMiddleware']\n",
      "2017-12-27 10:59:21 [scrapy.middleware] INFO: Enabled item pipelines:\n",
      "[]\n",
      "2017-12-27 10:59:21 [scrapy.core.engine] INFO: Spider opened\n",
      "2017-12-27 10:59:21 [scrapy.extensions.logstats] INFO: Crawled 0 pages (at 0 pages/min), scraped 0 items (at 0 items/min)\n",
      "2017-12-27 10:59:21 [scrapy.extensions.telnet] DEBUG: Telnet console listening on 127.0.0.1:6023\n",
      "2017-12-27 10:59:21 [scrapy.core.engine] DEBUG: Crawled (200) <GET http://www.settrade.com/C18_Search_Symbol.jsp?txtBrokerId=IPO&selectPage=1&requestPage=%2FC18_Search_Symbol.jsp%3FtxtBrokerId%3DIPO%26selectPage%3D1&txtAlphabet=A> (referer: None)\n",
      "2017-12-27 10:59:21 [scrapy.core.engine] DEBUG: Crawled (200) <GET http://www.settrade.com/C18_Search_Symbol.jsp?txtBrokerId=IPO&selectPage=1&requestPage=%2FC18_Search_Symbol.jsp%3FtxtBrokerId%3DIPO%26selectPage%3D1&txtAlphabet=D> (referer: None)\n",
      "2017-12-27 10:59:21 [scrapy.core.engine] DEBUG: Crawled (200) <GET http://www.settrade.com/C18_Search_Symbol.jsp?txtBrokerId=IPO&selectPage=1&requestPage=%2FC18_Search_Symbol.jsp%3FtxtBrokerId%3DIPO%26selectPage%3D1&txtAlphabet=F> (referer: None)\n",
      "2017-12-27 10:59:22 [scrapy.core.engine] DEBUG: Crawled (200) <GET http://www.settrade.com/C18_Search_Symbol.jsp?txtBrokerId=IPO&selectPage=1&requestPage=%2FC18_Search_Symbol.jsp%3FtxtBrokerId%3DIPO%26selectPage%3D1&txtAlphabet=G> (referer: None)\n",
      "2017-12-27 10:59:22 [scrapy.core.engine] DEBUG: Crawled (200) <GET http://www.settrade.com/C18_Search_Symbol.jsp?txtBrokerId=IPO&selectPage=1&requestPage=%2FC18_Search_Symbol.jsp%3FtxtBrokerId%3DIPO%26selectPage%3D1&txtAlphabet=C> (referer: None)\n",
      "2017-12-27 10:59:22 [scrapy.core.engine] DEBUG: Crawled (200) <GET http://www.settrade.com/C18_Search_Symbol.jsp?txtBrokerId=IPO&selectPage=1&requestPage=%2FC18_Search_Symbol.jsp%3FtxtBrokerId%3DIPO%26selectPage%3D1&txtAlphabet=J> (referer: None)\n",
      "2017-12-27 10:59:22 [scrapy.core.engine] DEBUG: Crawled (200) <GET http://www.settrade.com/C18_Search_Symbol.jsp?txtBrokerId=IPO&selectPage=1&requestPage=%2FC18_Search_Symbol.jsp%3FtxtBrokerId%3DIPO%26selectPage%3D1&txtAlphabet=num> (referer: None)\n",
      "2017-12-27 10:59:22 [scrapy.core.engine] DEBUG: Crawled (200) <GET http://www.settrade.com/C18_Search_Symbol.jsp?txtBrokerId=IPO&selectPage=1&requestPage=%2FC18_Search_Symbol.jsp%3FtxtBrokerId%3DIPO%26selectPage%3D1&txtAlphabet=E> (referer: None)\n",
      "2017-12-27 10:59:22 [scrapy.core.engine] DEBUG: Crawled (200) <GET http://www.settrade.com/C18_Search_Symbol.jsp?txtBrokerId=IPO&selectPage=1&requestPage=%2FC18_Search_Symbol.jsp%3FtxtBrokerId%3DIPO%26selectPage%3D1&txtAlphabet=H> (referer: None)\n",
      "2017-12-27 10:59:22 [scrapy.core.engine] DEBUG: Crawled (200) <GET http://www.settrade.com/C18_Search_Symbol.jsp?txtBrokerId=IPO&selectPage=1&requestPage=%2FC18_Search_Symbol.jsp%3FtxtBrokerId%3DIPO%26selectPage%3D1&txtAlphabet=B> (referer: None)\n",
      "2017-12-27 10:59:22 [scrapy.core.engine] DEBUG: Crawled (200) <GET http://www.settrade.com/C18_Search_Symbol.jsp?txtBrokerId=IPO&selectPage=1&requestPage=%2FC18_Search_Symbol.jsp%3FtxtBrokerId%3DIPO%26selectPage%3D1&txtAlphabet=K> (referer: None)\n",
      "2017-12-27 10:59:22 [scrapy.core.engine] DEBUG: Crawled (200) <GET http://www.settrade.com/C18_Search_Symbol.jsp?txtBrokerId=IPO&selectPage=1&requestPage=%2FC18_Search_Symbol.jsp%3FtxtBrokerId%3DIPO%26selectPage%3D1&txtAlphabet=I> (referer: None)\n",
      "2017-12-27 10:59:22 [scrapy.core.engine] DEBUG: Crawled (200) <GET http://www.settrade.com/C18_Search_Symbol.jsp?txtBrokerId=IPO&selectPage=1&requestPage=%2FC18_Search_Symbol.jsp%3FtxtBrokerId%3DIPO%26selectPage%3D1&txtAlphabet=M> (referer: None)\n",
      "2017-12-27 10:59:22 [scrapy.core.engine] DEBUG: Crawled (200) <GET http://www.settrade.com/C18_Search_Symbol.jsp?txtBrokerId=IPO&selectPage=1&requestPage=%2FC18_Search_Symbol.jsp%3FtxtBrokerId%3DIPO%26selectPage%3D1&txtAlphabet=L> (referer: None)\n",
      "2017-12-27 10:59:22 [scrapy.core.engine] DEBUG: Crawled (200) <GET http://www.settrade.com/C18_Search_Symbol.jsp?txtBrokerId=IPO&selectPage=1&requestPage=%2FC18_Search_Symbol.jsp%3FtxtBrokerId%3DIPO%26selectPage%3D1&txtAlphabet=O> (referer: None)\n",
      "2017-12-27 10:59:22 [scrapy.core.engine] DEBUG: Crawled (200) <GET http://www.settrade.com/C18_Search_Symbol.jsp?txtBrokerId=IPO&selectPage=1&requestPage=%2FC18_Search_Symbol.jsp%3FtxtBrokerId%3DIPO%26selectPage%3D1&txtAlphabet=N> (referer: None)\n",
      "2017-12-27 10:59:22 [scrapy.core.engine] DEBUG: Crawled (200) <GET http://www.settrade.com/C18_Search_Symbol.jsp?txtBrokerId=IPO&selectPage=1&requestPage=%2FC18_Search_Symbol.jsp%3FtxtBrokerId%3DIPO%26selectPage%3D1&txtAlphabet=Q> (referer: None)\n",
      "2017-12-27 10:59:22 [scrapy.core.engine] DEBUG: Crawled (200) <GET http://www.settrade.com/C18_Search_Symbol.jsp?txtBrokerId=IPO&selectPage=1&requestPage=%2FC18_Search_Symbol.jsp%3FtxtBrokerId%3DIPO%26selectPage%3D1&txtAlphabet=R> (referer: None)\n",
      "2017-12-27 10:59:22 [scrapy.core.engine] DEBUG: Crawled (200) <GET http://www.settrade.com/C18_Search_Symbol.jsp?txtBrokerId=IPO&selectPage=1&requestPage=%2FC18_Search_Symbol.jsp%3FtxtBrokerId%3DIPO%26selectPage%3D1&txtAlphabet=P> (referer: None)\n",
      "2017-12-27 10:59:22 [scrapy.core.engine] DEBUG: Crawled (200) <GET http://www.settrade.com/C18_Search_Symbol.jsp?txtBrokerId=IPO&selectPage=1&requestPage=%2FC18_Search_Symbol.jsp%3FtxtBrokerId%3DIPO%26selectPage%3D1&txtAlphabet=S> (referer: None)\n",
      "2017-12-27 10:59:22 [scrapy.core.engine] DEBUG: Crawled (200) <GET http://www.settrade.com/C18_Search_Symbol.jsp?txtBrokerId=IPO&selectPage=1&requestPage=%2FC18_Search_Symbol.jsp%3FtxtBrokerId%3DIPO%26selectPage%3D1&txtAlphabet=T> (referer: None)\n",
      "2017-12-27 10:59:22 [scrapy.core.engine] DEBUG: Crawled (200) <GET http://www.settrade.com/C18_Search_Symbol.jsp?txtBrokerId=IPO&selectPage=1&requestPage=%2FC18_Search_Symbol.jsp%3FtxtBrokerId%3DIPO%26selectPage%3D1&txtAlphabet=U> (referer: None)\n",
      "2017-12-27 10:59:22 [scrapy.core.engine] DEBUG: Crawled (200) <GET http://www.settrade.com/C18_Search_Symbol.jsp?txtBrokerId=IPO&selectPage=1&requestPage=%2FC18_Search_Symbol.jsp%3FtxtBrokerId%3DIPO%26selectPage%3D1&txtAlphabet=V> (referer: None)\n",
      "2017-12-27 10:59:23 [scrapy.core.engine] DEBUG: Crawled (200) <GET http://www.settrade.com/C18_Search_Symbol.jsp?txtBrokerId=IPO&selectPage=1&requestPage=%2FC18_Search_Symbol.jsp%3FtxtBrokerId%3DIPO%26selectPage%3D1&txtAlphabet=X> (referer: None)\n",
      "2017-12-27 10:59:23 [scrapy.core.engine] DEBUG: Crawled (200) <GET http://www.settrade.com/C18_Search_Symbol.jsp?txtBrokerId=IPO&selectPage=1&requestPage=%2FC18_Search_Symbol.jsp%3FtxtBrokerId%3DIPO%26selectPage%3D1&txtAlphabet=W> (referer: None)\n",
      "2017-12-27 10:59:23 [scrapy.core.engine] DEBUG: Crawled (200) <GET http://www.settrade.com/C18_Search_Symbol.jsp?txtBrokerId=IPO&selectPage=1&requestPage=%2FC18_Search_Symbol.jsp%3FtxtBrokerId%3DIPO%26selectPage%3D1&txtAlphabet=Y> (referer: None)\n"
     ]
    },
    {
     "name": "stderr",
     "output_type": "stream",
     "text": [
      "2017-12-27 10:59:23 [scrapy.core.engine] DEBUG: Crawled (200) <GET http://www.settrade.com/C18_Search_Symbol.jsp?txtBrokerId=IPO&selectPage=1&requestPage=%2FC18_Search_Symbol.jsp%3FtxtBrokerId%3DIPO%26selectPage%3D1&txtAlphabet=Z> (referer: None)\n",
      "2017-12-27 10:59:23 [scrapy.core.engine] INFO: Closing spider (finished)\n",
      "2017-12-27 10:59:23 [scrapy.statscollectors] INFO: Dumping Scrapy stats:\n",
      "{'downloader/request_bytes': 10669,\n",
      " 'downloader/request_count': 27,\n",
      " 'downloader/request_method_count/GET': 27,\n",
      " 'downloader/response_bytes': 391746,\n",
      " 'downloader/response_count': 27,\n",
      " 'downloader/response_status_count/200': 27,\n",
      " 'finish_reason': 'finished',\n",
      " 'finish_time': datetime.datetime(2017, 12, 27, 3, 59, 23, 425517),\n",
      " 'log_count/DEBUG': 28,\n",
      " 'log_count/INFO': 7,\n",
      " 'memusage/max': 81481728,\n",
      " 'memusage/startup': 81481728,\n",
      " 'response_received_count': 27,\n",
      " 'scheduler/dequeued': 27,\n",
      " 'scheduler/dequeued/memory': 27,\n",
      " 'scheduler/enqueued': 27,\n",
      " 'scheduler/enqueued/memory': 27,\n",
      " 'start_time': datetime.datetime(2017, 12, 27, 3, 59, 21, 724182)}\n",
      "2017-12-27 10:59:23 [scrapy.core.engine] INFO: Spider closed (finished)\n"
     ]
    }
   ],
   "source": [
    "import scrapy\n",
    "from scrapy.crawler import CrawlerProcess\n",
    "import csv\n",
    "from datetime import datetime\n",
    "\n",
    "class SetItem(scrapy.Item):\n",
    "    name = scrapy.Field()\n",
    "    url = scrapy.Field()\n",
    "    thai_name = scrapy.Field()\n",
    "    group = scrapy.Field()\n",
    "\n",
    "# point Scrapy to Settrade.com\n",
    "class SetSpider(scrapy.Spider):\n",
    "    name = \"set_spider\"\n",
    "    \n",
    "    # Page Group : 0-9,A,B,C,...,Z      \n",
    "    start_urls = ['http://www.settrade.com/C18_Search_Symbol.jsp?txtBrokerId=IPO&selectPage=1&requestPage=%2FC18_Search_Symbol.jsp%3FtxtBrokerId%3DIPO%26selectPage%3D1&txtAlphabet=num',\n",
    "                  'http://www.settrade.com/C18_Search_Symbol.jsp?txtBrokerId=IPO&selectPage=1&requestPage=%2FC18_Search_Symbol.jsp%3FtxtBrokerId%3DIPO%26selectPage%3D1&txtAlphabet=A',\n",
    "                  'http://www.settrade.com/C18_Search_Symbol.jsp?txtBrokerId=IPO&selectPage=1&requestPage=%2FC18_Search_Symbol.jsp%3FtxtBrokerId%3DIPO%26selectPage%3D1&txtAlphabet=B',\n",
    "                  'http://www.settrade.com/C18_Search_Symbol.jsp?txtBrokerId=IPO&selectPage=1&requestPage=%2FC18_Search_Symbol.jsp%3FtxtBrokerId%3DIPO%26selectPage%3D1&txtAlphabet=C',\n",
    "                  'http://www.settrade.com/C18_Search_Symbol.jsp?txtBrokerId=IPO&selectPage=1&requestPage=%2FC18_Search_Symbol.jsp%3FtxtBrokerId%3DIPO%26selectPage%3D1&txtAlphabet=D',\n",
    "                  'http://www.settrade.com/C18_Search_Symbol.jsp?txtBrokerId=IPO&selectPage=1&requestPage=%2FC18_Search_Symbol.jsp%3FtxtBrokerId%3DIPO%26selectPage%3D1&txtAlphabet=E',\n",
    "                  'http://www.settrade.com/C18_Search_Symbol.jsp?txtBrokerId=IPO&selectPage=1&requestPage=%2FC18_Search_Symbol.jsp%3FtxtBrokerId%3DIPO%26selectPage%3D1&txtAlphabet=F',\n",
    "                  'http://www.settrade.com/C18_Search_Symbol.jsp?txtBrokerId=IPO&selectPage=1&requestPage=%2FC18_Search_Symbol.jsp%3FtxtBrokerId%3DIPO%26selectPage%3D1&txtAlphabet=G',\n",
    "                  'http://www.settrade.com/C18_Search_Symbol.jsp?txtBrokerId=IPO&selectPage=1&requestPage=%2FC18_Search_Symbol.jsp%3FtxtBrokerId%3DIPO%26selectPage%3D1&txtAlphabet=H',\n",
    "                  'http://www.settrade.com/C18_Search_Symbol.jsp?txtBrokerId=IPO&selectPage=1&requestPage=%2FC18_Search_Symbol.jsp%3FtxtBrokerId%3DIPO%26selectPage%3D1&txtAlphabet=I',\n",
    "                  'http://www.settrade.com/C18_Search_Symbol.jsp?txtBrokerId=IPO&selectPage=1&requestPage=%2FC18_Search_Symbol.jsp%3FtxtBrokerId%3DIPO%26selectPage%3D1&txtAlphabet=J',\n",
    "                  'http://www.settrade.com/C18_Search_Symbol.jsp?txtBrokerId=IPO&selectPage=1&requestPage=%2FC18_Search_Symbol.jsp%3FtxtBrokerId%3DIPO%26selectPage%3D1&txtAlphabet=K',\n",
    "                  'http://www.settrade.com/C18_Search_Symbol.jsp?txtBrokerId=IPO&selectPage=1&requestPage=%2FC18_Search_Symbol.jsp%3FtxtBrokerId%3DIPO%26selectPage%3D1&txtAlphabet=L',\n",
    "                  'http://www.settrade.com/C18_Search_Symbol.jsp?txtBrokerId=IPO&selectPage=1&requestPage=%2FC18_Search_Symbol.jsp%3FtxtBrokerId%3DIPO%26selectPage%3D1&txtAlphabet=M',\n",
    "                  'http://www.settrade.com/C18_Search_Symbol.jsp?txtBrokerId=IPO&selectPage=1&requestPage=%2FC18_Search_Symbol.jsp%3FtxtBrokerId%3DIPO%26selectPage%3D1&txtAlphabet=N',\n",
    "                  'http://www.settrade.com/C18_Search_Symbol.jsp?txtBrokerId=IPO&selectPage=1&requestPage=%2FC18_Search_Symbol.jsp%3FtxtBrokerId%3DIPO%26selectPage%3D1&txtAlphabet=O',\n",
    "                  'http://www.settrade.com/C18_Search_Symbol.jsp?txtBrokerId=IPO&selectPage=1&requestPage=%2FC18_Search_Symbol.jsp%3FtxtBrokerId%3DIPO%26selectPage%3D1&txtAlphabet=P',\n",
    "                  'http://www.settrade.com/C18_Search_Symbol.jsp?txtBrokerId=IPO&selectPage=1&requestPage=%2FC18_Search_Symbol.jsp%3FtxtBrokerId%3DIPO%26selectPage%3D1&txtAlphabet=Q',\n",
    "                  'http://www.settrade.com/C18_Search_Symbol.jsp?txtBrokerId=IPO&selectPage=1&requestPage=%2FC18_Search_Symbol.jsp%3FtxtBrokerId%3DIPO%26selectPage%3D1&txtAlphabet=R',\n",
    "                  'http://www.settrade.com/C18_Search_Symbol.jsp?txtBrokerId=IPO&selectPage=1&requestPage=%2FC18_Search_Symbol.jsp%3FtxtBrokerId%3DIPO%26selectPage%3D1&txtAlphabet=S',\n",
    "                  'http://www.settrade.com/C18_Search_Symbol.jsp?txtBrokerId=IPO&selectPage=1&requestPage=%2FC18_Search_Symbol.jsp%3FtxtBrokerId%3DIPO%26selectPage%3D1&txtAlphabet=T',\n",
    "                  'http://www.settrade.com/C18_Search_Symbol.jsp?txtBrokerId=IPO&selectPage=1&requestPage=%2FC18_Search_Symbol.jsp%3FtxtBrokerId%3DIPO%26selectPage%3D1&txtAlphabet=U',\n",
    "                  'http://www.settrade.com/C18_Search_Symbol.jsp?txtBrokerId=IPO&selectPage=1&requestPage=%2FC18_Search_Symbol.jsp%3FtxtBrokerId%3DIPO%26selectPage%3D1&txtAlphabet=V',\n",
    "                  'http://www.settrade.com/C18_Search_Symbol.jsp?txtBrokerId=IPO&selectPage=1&requestPage=%2FC18_Search_Symbol.jsp%3FtxtBrokerId%3DIPO%26selectPage%3D1&txtAlphabet=W',\n",
    "                  'http://www.settrade.com/C18_Search_Symbol.jsp?txtBrokerId=IPO&selectPage=1&requestPage=%2FC18_Search_Symbol.jsp%3FtxtBrokerId%3DIPO%26selectPage%3D1&txtAlphabet=X',\n",
    "                  'http://www.settrade.com/C18_Search_Symbol.jsp?txtBrokerId=IPO&selectPage=1&requestPage=%2FC18_Search_Symbol.jsp%3FtxtBrokerId%3DIPO%26selectPage%3D1&txtAlphabet=Y',\n",
    "                  'http://www.settrade.com/C18_Search_Symbol.jsp?txtBrokerId=IPO&selectPage=1&requestPage=%2FC18_Search_Symbol.jsp%3FtxtBrokerId%3DIPO%26selectPage%3D1&txtAlphabet=Z']\n",
    "    \n",
    "    def parse(self, response):\n",
    "        SET_SELECTOR = '#stock-list tbody tr'\n",
    "        \n",
    "        # CSV file that store all data        \n",
    "        csv_file = open('file_output/set_list.csv', 'a')\n",
    "\n",
    "        for data in response.css(SET_SELECTOR):\n",
    "            \n",
    "            NAME_SELECTOR = 'td a ::text'\n",
    "            URL_SELECTOR  = 'td a ::attr(href)'\n",
    "            THAI_NAME = '.text-left ::text'\n",
    "            GROUP_NAME = '.text-center a ::text'\n",
    "            \n",
    "            item = SetItem()\n",
    "            item['name'] = data.css(NAME_SELECTOR).extract_first()\n",
    "            item['url']  = data.css(URL_SELECTOR).extract_first()\n",
    "            item['thai_name']  = data.css(THAI_NAME).extract_first()\n",
    "            item['group']  = data.css(GROUP_NAME).extract_first()\n",
    "            \n",
    "            # open a csv file with append, so old data will not be erased\n",
    "            writer = csv.writer(csv_file)\n",
    "            writer.writerow([item['name'],item['thai_name'],item['group'],item['url']])\n",
    "\n",
    "# run Scrapy\n",
    "process = CrawlerProcess({\n",
    "    'USER_AGENT': 'Mozilla/4.0 (compatible; MSIE 7.0; Windows NT 5.1)'\n",
    "})\n",
    "process.crawl(SetSpider)\n",
    "process.start() # the script will block here until the crawling is finished"
   ]
  },
  {
   "cell_type": "markdown",
   "metadata": {},
   "source": [
    "# Example Data from CSV"
   ]
  },
  {
   "cell_type": "code",
   "execution_count": null,
   "metadata": {
    "collapsed": true
   },
   "outputs": [],
   "source": []
  }
 ],
 "metadata": {
  "kernelspec": {
   "display_name": "Python 3",
   "language": "python",
   "name": "python3"
  },
  "language_info": {
   "codemirror_mode": {
    "name": "ipython",
    "version": 3
   },
   "file_extension": ".py",
   "mimetype": "text/x-python",
   "name": "python",
   "nbconvert_exporter": "python",
   "pygments_lexer": "ipython3",
   "version": "3.6.3"
  }
 },
 "nbformat": 4,
 "nbformat_minor": 2
}
