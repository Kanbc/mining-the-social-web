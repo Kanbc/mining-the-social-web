{
 "cells": [
  {
   "cell_type": "markdown",
   "metadata": {},
   "source": [
    "*ถ้า error ให้ restart แล้ว run ใหม่*"
   ]
  },
  {
   "cell_type": "markdown",
   "metadata": {},
   "source": [
    "# Get รายชื่อหุ้นจาก Settrade to CSV file (use Scrapy & CSV)\n",
    "\n",
    "ส่วนนี้ไม่ต้อง run ใหม่ ถ้าไม่อยากดึงข้อมูลจาก Settrade ใหม่"
   ]
  },
  {
   "cell_type": "code",
   "execution_count": 1,
   "metadata": {
    "scrolled": true
   },
   "outputs": [
    {
     "name": "stderr",
     "output_type": "stream",
     "text": [
      "2017-12-27 11:24:33 [scrapy.utils.log] INFO: Scrapy 1.4.0 started (bot: scrapybot)\n",
      "2017-12-27 11:24:33 [scrapy.utils.log] INFO: Overridden settings: {'USER_AGENT': 'Mozilla/4.0 (compatible; MSIE 7.0; Windows NT 5.1)'}\n",
      "2017-12-27 11:24:33 [scrapy.middleware] INFO: Enabled extensions:\n",
      "['scrapy.extensions.corestats.CoreStats',\n",
      " 'scrapy.extensions.telnet.TelnetConsole',\n",
      " 'scrapy.extensions.memusage.MemoryUsage',\n",
      " 'scrapy.extensions.logstats.LogStats']\n",
      "2017-12-27 11:24:33 [scrapy.middleware] INFO: Enabled downloader middlewares:\n",
      "['scrapy.downloadermiddlewares.httpauth.HttpAuthMiddleware',\n",
      " 'scrapy.downloadermiddlewares.downloadtimeout.DownloadTimeoutMiddleware',\n",
      " 'scrapy.downloadermiddlewares.defaultheaders.DefaultHeadersMiddleware',\n",
      " 'scrapy.downloadermiddlewares.useragent.UserAgentMiddleware',\n",
      " 'scrapy.downloadermiddlewares.retry.RetryMiddleware',\n",
      " 'scrapy.downloadermiddlewares.redirect.MetaRefreshMiddleware',\n",
      " 'scrapy.downloadermiddlewares.httpcompression.HttpCompressionMiddleware',\n",
      " 'scrapy.downloadermiddlewares.redirect.RedirectMiddleware',\n",
      " 'scrapy.downloadermiddlewares.cookies.CookiesMiddleware',\n",
      " 'scrapy.downloadermiddlewares.httpproxy.HttpProxyMiddleware',\n",
      " 'scrapy.downloadermiddlewares.stats.DownloaderStats']\n",
      "2017-12-27 11:24:33 [scrapy.middleware] INFO: Enabled spider middlewares:\n",
      "['scrapy.spidermiddlewares.httperror.HttpErrorMiddleware',\n",
      " 'scrapy.spidermiddlewares.offsite.OffsiteMiddleware',\n",
      " 'scrapy.spidermiddlewares.referer.RefererMiddleware',\n",
      " 'scrapy.spidermiddlewares.urllength.UrlLengthMiddleware',\n",
      " 'scrapy.spidermiddlewares.depth.DepthMiddleware']\n",
      "2017-12-27 11:24:33 [scrapy.middleware] INFO: Enabled item pipelines:\n",
      "[]\n",
      "2017-12-27 11:24:33 [scrapy.core.engine] INFO: Spider opened\n",
      "2017-12-27 11:24:33 [scrapy.extensions.logstats] INFO: Crawled 0 pages (at 0 pages/min), scraped 0 items (at 0 items/min)\n",
      "2017-12-27 11:24:33 [scrapy.extensions.telnet] DEBUG: Telnet console listening on 127.0.0.1:6023\n",
      "2017-12-27 11:24:33 [scrapy.core.engine] DEBUG: Crawled (200) <GET http://www.settrade.com/C18_Search_Symbol.jsp?txtBrokerId=IPO&selectPage=1&requestPage=%2FC18_Search_Symbol.jsp%3FtxtBrokerId%3DIPO%26selectPage%3D1&txtAlphabet=F> (referer: None)\n",
      "2017-12-27 11:24:33 [scrapy.core.engine] DEBUG: Crawled (200) <GET http://www.settrade.com/C18_Search_Symbol.jsp?txtBrokerId=IPO&selectPage=1&requestPage=%2FC18_Search_Symbol.jsp%3FtxtBrokerId%3DIPO%26selectPage%3D1&txtAlphabet=D> (referer: None)\n",
      "2017-12-27 11:24:33 [scrapy.core.engine] DEBUG: Crawled (200) <GET http://www.settrade.com/C18_Search_Symbol.jsp?txtBrokerId=IPO&selectPage=1&requestPage=%2FC18_Search_Symbol.jsp%3FtxtBrokerId%3DIPO%26selectPage%3D1&txtAlphabet=num> (referer: None)\n",
      "2017-12-27 11:24:33 [scrapy.core.engine] DEBUG: Crawled (200) <GET http://www.settrade.com/C18_Search_Symbol.jsp?txtBrokerId=IPO&selectPage=1&requestPage=%2FC18_Search_Symbol.jsp%3FtxtBrokerId%3DIPO%26selectPage%3D1&txtAlphabet=E> (referer: None)\n",
      "2017-12-27 11:24:33 [scrapy.core.engine] DEBUG: Crawled (200) <GET http://www.settrade.com/C18_Search_Symbol.jsp?txtBrokerId=IPO&selectPage=1&requestPage=%2FC18_Search_Symbol.jsp%3FtxtBrokerId%3DIPO%26selectPage%3D1&txtAlphabet=C> (referer: None)\n",
      "2017-12-27 11:24:33 [scrapy.core.engine] DEBUG: Crawled (200) <GET http://www.settrade.com/C18_Search_Symbol.jsp?txtBrokerId=IPO&selectPage=1&requestPage=%2FC18_Search_Symbol.jsp%3FtxtBrokerId%3DIPO%26selectPage%3D1&txtAlphabet=A> (referer: None)\n",
      "2017-12-27 11:24:33 [scrapy.core.engine] DEBUG: Crawled (200) <GET http://www.settrade.com/C18_Search_Symbol.jsp?txtBrokerId=IPO&selectPage=1&requestPage=%2FC18_Search_Symbol.jsp%3FtxtBrokerId%3DIPO%26selectPage%3D1&txtAlphabet=G> (referer: None)\n",
      "2017-12-27 11:24:33 [scrapy.core.engine] DEBUG: Crawled (200) <GET http://www.settrade.com/C18_Search_Symbol.jsp?txtBrokerId=IPO&selectPage=1&requestPage=%2FC18_Search_Symbol.jsp%3FtxtBrokerId%3DIPO%26selectPage%3D1&txtAlphabet=B> (referer: None)\n",
      "2017-12-27 11:24:33 [scrapy.core.engine] DEBUG: Crawled (200) <GET http://www.settrade.com/C18_Search_Symbol.jsp?txtBrokerId=IPO&selectPage=1&requestPage=%2FC18_Search_Symbol.jsp%3FtxtBrokerId%3DIPO%26selectPage%3D1&txtAlphabet=L> (referer: None)\n",
      "2017-12-27 11:24:33 [scrapy.core.engine] DEBUG: Crawled (200) <GET http://www.settrade.com/C18_Search_Symbol.jsp?txtBrokerId=IPO&selectPage=1&requestPage=%2FC18_Search_Symbol.jsp%3FtxtBrokerId%3DIPO%26selectPage%3D1&txtAlphabet=M> (referer: None)\n",
      "2017-12-27 11:24:33 [scrapy.core.engine] DEBUG: Crawled (200) <GET http://www.settrade.com/C18_Search_Symbol.jsp?txtBrokerId=IPO&selectPage=1&requestPage=%2FC18_Search_Symbol.jsp%3FtxtBrokerId%3DIPO%26selectPage%3D1&txtAlphabet=H> (referer: None)\n",
      "2017-12-27 11:24:33 [scrapy.core.engine] DEBUG: Crawled (200) <GET http://www.settrade.com/C18_Search_Symbol.jsp?txtBrokerId=IPO&selectPage=1&requestPage=%2FC18_Search_Symbol.jsp%3FtxtBrokerId%3DIPO%26selectPage%3D1&txtAlphabet=K> (referer: None)\n",
      "2017-12-27 11:24:33 [scrapy.core.engine] DEBUG: Crawled (200) <GET http://www.settrade.com/C18_Search_Symbol.jsp?txtBrokerId=IPO&selectPage=1&requestPage=%2FC18_Search_Symbol.jsp%3FtxtBrokerId%3DIPO%26selectPage%3D1&txtAlphabet=I> (referer: None)\n",
      "2017-12-27 11:24:33 [scrapy.core.engine] DEBUG: Crawled (200) <GET http://www.settrade.com/C18_Search_Symbol.jsp?txtBrokerId=IPO&selectPage=1&requestPage=%2FC18_Search_Symbol.jsp%3FtxtBrokerId%3DIPO%26selectPage%3D1&txtAlphabet=N> (referer: None)\n",
      "2017-12-27 11:24:33 [scrapy.core.engine] DEBUG: Crawled (200) <GET http://www.settrade.com/C18_Search_Symbol.jsp?txtBrokerId=IPO&selectPage=1&requestPage=%2FC18_Search_Symbol.jsp%3FtxtBrokerId%3DIPO%26selectPage%3D1&txtAlphabet=J> (referer: None)\n",
      "2017-12-27 11:24:33 [scrapy.core.engine] DEBUG: Crawled (200) <GET http://www.settrade.com/C18_Search_Symbol.jsp?txtBrokerId=IPO&selectPage=1&requestPage=%2FC18_Search_Symbol.jsp%3FtxtBrokerId%3DIPO%26selectPage%3D1&txtAlphabet=O> (referer: None)\n",
      "2017-12-27 11:24:34 [scrapy.core.engine] DEBUG: Crawled (200) <GET http://www.settrade.com/C18_Search_Symbol.jsp?txtBrokerId=IPO&selectPage=1&requestPage=%2FC18_Search_Symbol.jsp%3FtxtBrokerId%3DIPO%26selectPage%3D1&txtAlphabet=P> (referer: None)\n",
      "2017-12-27 11:24:34 [scrapy.core.engine] DEBUG: Crawled (200) <GET http://www.settrade.com/C18_Search_Symbol.jsp?txtBrokerId=IPO&selectPage=1&requestPage=%2FC18_Search_Symbol.jsp%3FtxtBrokerId%3DIPO%26selectPage%3D1&txtAlphabet=Q> (referer: None)\n",
      "2017-12-27 11:24:34 [scrapy.core.engine] DEBUG: Crawled (200) <GET http://www.settrade.com/C18_Search_Symbol.jsp?txtBrokerId=IPO&selectPage=1&requestPage=%2FC18_Search_Symbol.jsp%3FtxtBrokerId%3DIPO%26selectPage%3D1&txtAlphabet=R> (referer: None)\n",
      "2017-12-27 11:24:34 [scrapy.core.engine] DEBUG: Crawled (200) <GET http://www.settrade.com/C18_Search_Symbol.jsp?txtBrokerId=IPO&selectPage=1&requestPage=%2FC18_Search_Symbol.jsp%3FtxtBrokerId%3DIPO%26selectPage%3D1&txtAlphabet=S> (referer: None)\n",
      "2017-12-27 11:24:34 [scrapy.core.engine] DEBUG: Crawled (200) <GET http://www.settrade.com/C18_Search_Symbol.jsp?txtBrokerId=IPO&selectPage=1&requestPage=%2FC18_Search_Symbol.jsp%3FtxtBrokerId%3DIPO%26selectPage%3D1&txtAlphabet=W> (referer: None)\n",
      "2017-12-27 11:24:34 [scrapy.core.engine] DEBUG: Crawled (200) <GET http://www.settrade.com/C18_Search_Symbol.jsp?txtBrokerId=IPO&selectPage=1&requestPage=%2FC18_Search_Symbol.jsp%3FtxtBrokerId%3DIPO%26selectPage%3D1&txtAlphabet=V> (referer: None)\n",
      "2017-12-27 11:24:34 [scrapy.core.engine] DEBUG: Crawled (200) <GET http://www.settrade.com/C18_Search_Symbol.jsp?txtBrokerId=IPO&selectPage=1&requestPage=%2FC18_Search_Symbol.jsp%3FtxtBrokerId%3DIPO%26selectPage%3D1&txtAlphabet=U> (referer: None)\n",
      "2017-12-27 11:24:34 [scrapy.core.engine] DEBUG: Crawled (200) <GET http://www.settrade.com/C18_Search_Symbol.jsp?txtBrokerId=IPO&selectPage=1&requestPage=%2FC18_Search_Symbol.jsp%3FtxtBrokerId%3DIPO%26selectPage%3D1&txtAlphabet=X> (referer: None)\n",
      "2017-12-27 11:24:34 [scrapy.core.engine] DEBUG: Crawled (200) <GET http://www.settrade.com/C18_Search_Symbol.jsp?txtBrokerId=IPO&selectPage=1&requestPage=%2FC18_Search_Symbol.jsp%3FtxtBrokerId%3DIPO%26selectPage%3D1&txtAlphabet=T> (referer: None)\n",
      "2017-12-27 11:24:34 [scrapy.core.engine] DEBUG: Crawled (200) <GET http://www.settrade.com/C18_Search_Symbol.jsp?txtBrokerId=IPO&selectPage=1&requestPage=%2FC18_Search_Symbol.jsp%3FtxtBrokerId%3DIPO%26selectPage%3D1&txtAlphabet=Y> (referer: None)\n"
     ]
    },
    {
     "name": "stderr",
     "output_type": "stream",
     "text": [
      "2017-12-27 11:24:34 [scrapy.core.engine] DEBUG: Crawled (200) <GET http://www.settrade.com/C18_Search_Symbol.jsp?txtBrokerId=IPO&selectPage=1&requestPage=%2FC18_Search_Symbol.jsp%3FtxtBrokerId%3DIPO%26selectPage%3D1&txtAlphabet=Z> (referer: None)\n",
      "2017-12-27 11:24:34 [scrapy.core.engine] INFO: Closing spider (finished)\n",
      "2017-12-27 11:24:34 [scrapy.statscollectors] INFO: Dumping Scrapy stats:\n",
      "{'downloader/request_bytes': 10669,\n",
      " 'downloader/request_count': 27,\n",
      " 'downloader/request_method_count/GET': 27,\n",
      " 'downloader/response_bytes': 391746,\n",
      " 'downloader/response_count': 27,\n",
      " 'downloader/response_status_count/200': 27,\n",
      " 'finish_reason': 'finished',\n",
      " 'finish_time': datetime.datetime(2017, 12, 27, 4, 24, 34, 693159),\n",
      " 'log_count/DEBUG': 28,\n",
      " 'log_count/INFO': 7,\n",
      " 'memusage/max': 81645568,\n",
      " 'memusage/startup': 81645568,\n",
      " 'response_received_count': 27,\n",
      " 'scheduler/dequeued': 27,\n",
      " 'scheduler/dequeued/memory': 27,\n",
      " 'scheduler/enqueued': 27,\n",
      " 'scheduler/enqueued/memory': 27,\n",
      " 'start_time': datetime.datetime(2017, 12, 27, 4, 24, 33, 126071)}\n",
      "2017-12-27 11:24:34 [scrapy.core.engine] INFO: Spider closed (finished)\n"
     ]
    }
   ],
   "source": [
    "import scrapy\n",
    "from scrapy.crawler import CrawlerProcess\n",
    "import csv\n",
    "from datetime import datetime\n",
    "\n",
    "class SetItem(scrapy.Item):\n",
    "    name = scrapy.Field()\n",
    "    url = scrapy.Field()\n",
    "    thai_name = scrapy.Field()\n",
    "    group = scrapy.Field()\n",
    "\n",
    "# point Scrapy to Settrade.com\n",
    "class SetSpider(scrapy.Spider):\n",
    "    name = \"set_spider\"\n",
    "    \n",
    "    # Page Group : 0-9,A,B,C,...,Z      \n",
    "    start_urls = ['http://www.settrade.com/C18_Search_Symbol.jsp?txtBrokerId=IPO&selectPage=1&requestPage=%2FC18_Search_Symbol.jsp%3FtxtBrokerId%3DIPO%26selectPage%3D1&txtAlphabet=num',\n",
    "                  'http://www.settrade.com/C18_Search_Symbol.jsp?txtBrokerId=IPO&selectPage=1&requestPage=%2FC18_Search_Symbol.jsp%3FtxtBrokerId%3DIPO%26selectPage%3D1&txtAlphabet=A',\n",
    "                  'http://www.settrade.com/C18_Search_Symbol.jsp?txtBrokerId=IPO&selectPage=1&requestPage=%2FC18_Search_Symbol.jsp%3FtxtBrokerId%3DIPO%26selectPage%3D1&txtAlphabet=B',\n",
    "                  'http://www.settrade.com/C18_Search_Symbol.jsp?txtBrokerId=IPO&selectPage=1&requestPage=%2FC18_Search_Symbol.jsp%3FtxtBrokerId%3DIPO%26selectPage%3D1&txtAlphabet=C',\n",
    "                  'http://www.settrade.com/C18_Search_Symbol.jsp?txtBrokerId=IPO&selectPage=1&requestPage=%2FC18_Search_Symbol.jsp%3FtxtBrokerId%3DIPO%26selectPage%3D1&txtAlphabet=D',\n",
    "                  'http://www.settrade.com/C18_Search_Symbol.jsp?txtBrokerId=IPO&selectPage=1&requestPage=%2FC18_Search_Symbol.jsp%3FtxtBrokerId%3DIPO%26selectPage%3D1&txtAlphabet=E',\n",
    "                  'http://www.settrade.com/C18_Search_Symbol.jsp?txtBrokerId=IPO&selectPage=1&requestPage=%2FC18_Search_Symbol.jsp%3FtxtBrokerId%3DIPO%26selectPage%3D1&txtAlphabet=F',\n",
    "                  'http://www.settrade.com/C18_Search_Symbol.jsp?txtBrokerId=IPO&selectPage=1&requestPage=%2FC18_Search_Symbol.jsp%3FtxtBrokerId%3DIPO%26selectPage%3D1&txtAlphabet=G',\n",
    "                  'http://www.settrade.com/C18_Search_Symbol.jsp?txtBrokerId=IPO&selectPage=1&requestPage=%2FC18_Search_Symbol.jsp%3FtxtBrokerId%3DIPO%26selectPage%3D1&txtAlphabet=H',\n",
    "                  'http://www.settrade.com/C18_Search_Symbol.jsp?txtBrokerId=IPO&selectPage=1&requestPage=%2FC18_Search_Symbol.jsp%3FtxtBrokerId%3DIPO%26selectPage%3D1&txtAlphabet=I',\n",
    "                  'http://www.settrade.com/C18_Search_Symbol.jsp?txtBrokerId=IPO&selectPage=1&requestPage=%2FC18_Search_Symbol.jsp%3FtxtBrokerId%3DIPO%26selectPage%3D1&txtAlphabet=J',\n",
    "                  'http://www.settrade.com/C18_Search_Symbol.jsp?txtBrokerId=IPO&selectPage=1&requestPage=%2FC18_Search_Symbol.jsp%3FtxtBrokerId%3DIPO%26selectPage%3D1&txtAlphabet=K',\n",
    "                  'http://www.settrade.com/C18_Search_Symbol.jsp?txtBrokerId=IPO&selectPage=1&requestPage=%2FC18_Search_Symbol.jsp%3FtxtBrokerId%3DIPO%26selectPage%3D1&txtAlphabet=L',\n",
    "                  'http://www.settrade.com/C18_Search_Symbol.jsp?txtBrokerId=IPO&selectPage=1&requestPage=%2FC18_Search_Symbol.jsp%3FtxtBrokerId%3DIPO%26selectPage%3D1&txtAlphabet=M',\n",
    "                  'http://www.settrade.com/C18_Search_Symbol.jsp?txtBrokerId=IPO&selectPage=1&requestPage=%2FC18_Search_Symbol.jsp%3FtxtBrokerId%3DIPO%26selectPage%3D1&txtAlphabet=N',\n",
    "                  'http://www.settrade.com/C18_Search_Symbol.jsp?txtBrokerId=IPO&selectPage=1&requestPage=%2FC18_Search_Symbol.jsp%3FtxtBrokerId%3DIPO%26selectPage%3D1&txtAlphabet=O',\n",
    "                  'http://www.settrade.com/C18_Search_Symbol.jsp?txtBrokerId=IPO&selectPage=1&requestPage=%2FC18_Search_Symbol.jsp%3FtxtBrokerId%3DIPO%26selectPage%3D1&txtAlphabet=P',\n",
    "                  'http://www.settrade.com/C18_Search_Symbol.jsp?txtBrokerId=IPO&selectPage=1&requestPage=%2FC18_Search_Symbol.jsp%3FtxtBrokerId%3DIPO%26selectPage%3D1&txtAlphabet=Q',\n",
    "                  'http://www.settrade.com/C18_Search_Symbol.jsp?txtBrokerId=IPO&selectPage=1&requestPage=%2FC18_Search_Symbol.jsp%3FtxtBrokerId%3DIPO%26selectPage%3D1&txtAlphabet=R',\n",
    "                  'http://www.settrade.com/C18_Search_Symbol.jsp?txtBrokerId=IPO&selectPage=1&requestPage=%2FC18_Search_Symbol.jsp%3FtxtBrokerId%3DIPO%26selectPage%3D1&txtAlphabet=S',\n",
    "                  'http://www.settrade.com/C18_Search_Symbol.jsp?txtBrokerId=IPO&selectPage=1&requestPage=%2FC18_Search_Symbol.jsp%3FtxtBrokerId%3DIPO%26selectPage%3D1&txtAlphabet=T',\n",
    "                  'http://www.settrade.com/C18_Search_Symbol.jsp?txtBrokerId=IPO&selectPage=1&requestPage=%2FC18_Search_Symbol.jsp%3FtxtBrokerId%3DIPO%26selectPage%3D1&txtAlphabet=U',\n",
    "                  'http://www.settrade.com/C18_Search_Symbol.jsp?txtBrokerId=IPO&selectPage=1&requestPage=%2FC18_Search_Symbol.jsp%3FtxtBrokerId%3DIPO%26selectPage%3D1&txtAlphabet=V',\n",
    "                  'http://www.settrade.com/C18_Search_Symbol.jsp?txtBrokerId=IPO&selectPage=1&requestPage=%2FC18_Search_Symbol.jsp%3FtxtBrokerId%3DIPO%26selectPage%3D1&txtAlphabet=W',\n",
    "                  'http://www.settrade.com/C18_Search_Symbol.jsp?txtBrokerId=IPO&selectPage=1&requestPage=%2FC18_Search_Symbol.jsp%3FtxtBrokerId%3DIPO%26selectPage%3D1&txtAlphabet=X',\n",
    "                  'http://www.settrade.com/C18_Search_Symbol.jsp?txtBrokerId=IPO&selectPage=1&requestPage=%2FC18_Search_Symbol.jsp%3FtxtBrokerId%3DIPO%26selectPage%3D1&txtAlphabet=Y',\n",
    "                  'http://www.settrade.com/C18_Search_Symbol.jsp?txtBrokerId=IPO&selectPage=1&requestPage=%2FC18_Search_Symbol.jsp%3FtxtBrokerId%3DIPO%26selectPage%3D1&txtAlphabet=Z']\n",
    "    \n",
    "    def parse(self, response):\n",
    "        SET_SELECTOR = '#stock-list tbody tr'\n",
    "        \n",
    "        # CSV file that store all data        \n",
    "        csv_file = open('file_output/set_list_'+str(datetime.now().strftime('%Y-%m-%d_%H'))+'.csv', 'a')\n",
    "\n",
    "        for data in response.css(SET_SELECTOR):\n",
    "            \n",
    "            NAME_SELECTOR = 'td a ::text'\n",
    "            URL_SELECTOR  = 'td a ::attr(href)'\n",
    "            THAI_NAME = '.text-left ::text'\n",
    "            GROUP_NAME = '.text-center a ::text'\n",
    "            \n",
    "            item = SetItem()\n",
    "            item['name'] = data.css(NAME_SELECTOR).extract_first()\n",
    "            item['url']  = data.css(URL_SELECTOR).extract_first()\n",
    "            item['thai_name']  = data.css(THAI_NAME).extract_first()\n",
    "            item['group']  = data.css(GROUP_NAME).extract_first()\n",
    "            \n",
    "            # open a csv file with append, so old data will not be erased\n",
    "            writer = csv.writer(csv_file)\n",
    "            writer.writerow([item['name'],item['thai_name'],item['group'],item['url']])\n",
    "\n",
    "# run Scrapy\n",
    "process = CrawlerProcess({\n",
    "    'USER_AGENT': 'Mozilla/4.0 (compatible; MSIE 7.0; Windows NT 5.1)'\n",
    "})\n",
    "process.crawl(SetSpider)\n",
    "process.start() # the script will block here until the crawling is finished"
   ]
  },
  {
   "cell_type": "markdown",
   "metadata": {},
   "source": [
    "# Explore Data from CSV\n",
    "\n",
    "ดูไฟล์ในโฟลเดอร์ file_output เลือกไฟล์ set_list ที่วันเวลาตรงกับที่สนใจ (ล่าสุด)"
   ]
  },
  {
   "cell_type": "code",
   "execution_count": 117,
   "metadata": {},
   "outputs": [],
   "source": [
    "import pandas as pd\n",
    "\n",
    "set_lists = pd.read_csv('file_output/set_list_2017-12-27_11.csv',names=['shortness','name_th','group','url'])\n",
    "set_lists = set_lists.sort_values('shortness')"
   ]
  },
  {
   "cell_type": "code",
   "execution_count": 118,
   "metadata": {
    "scrolled": false
   },
   "outputs": [
    {
     "data": {
      "text/html": [
       "<div>\n",
       "<style>\n",
       "    .dataframe thead tr:only-child th {\n",
       "        text-align: right;\n",
       "    }\n",
       "\n",
       "    .dataframe thead th {\n",
       "        text-align: left;\n",
       "    }\n",
       "\n",
       "    .dataframe tbody tr th {\n",
       "        vertical-align: top;\n",
       "    }\n",
       "</style>\n",
       "<table border=\"1\" class=\"dataframe\">\n",
       "  <thead>\n",
       "    <tr style=\"text-align: right;\">\n",
       "      <th></th>\n",
       "      <th>shortness</th>\n",
       "      <th>name_th</th>\n",
       "      <th>group</th>\n",
       "      <th>url</th>\n",
       "    </tr>\n",
       "  </thead>\n",
       "  <tbody>\n",
       "    <tr>\n",
       "      <th>33</th>\n",
       "      <td>2S</td>\n",
       "      <td>บริษัท 2 เอส เมทัล จำกัด (มหาชน)</td>\n",
       "      <td>MAI</td>\n",
       "      <td>/C13_FastQuote_Main.jsp?txtBrokerId=IPO&amp;select...</td>\n",
       "    </tr>\n",
       "    <tr>\n",
       "      <th>106</th>\n",
       "      <td>A</td>\n",
       "      <td>บริษัท อารียา พรอพเพอร์ตี้ จำกัด (มหาชน)</td>\n",
       "      <td>SET</td>\n",
       "      <td>/C13_FastQuote_Main.jsp?txtBrokerId=IPO&amp;select...</td>\n",
       "    </tr>\n",
       "    <tr>\n",
       "      <th>107</th>\n",
       "      <td>AAV</td>\n",
       "      <td>บริษัท เอเชีย เอวิเอชั่น จำกัด (มหาชน)</td>\n",
       "      <td>SET</td>\n",
       "      <td>/C13_FastQuote_Main.jsp?txtBrokerId=IPO&amp;select...</td>\n",
       "    </tr>\n",
       "    <tr>\n",
       "      <th>146</th>\n",
       "      <td>ABICO</td>\n",
       "      <td>บริษัท เอบิโก้ โฮลดิ้งส์ จำกัด (มหาชน)</td>\n",
       "      <td>MAI</td>\n",
       "      <td>/C13_FastQuote_Main.jsp?txtBrokerId=IPO&amp;select...</td>\n",
       "    </tr>\n",
       "    <tr>\n",
       "      <th>108</th>\n",
       "      <td>ABPIF</td>\n",
       "      <td>กองทุนรวมโครงสร้างพื้นฐานโรงไฟฟ้า อมตะ บี.กริม...</td>\n",
       "      <td>SET</td>\n",
       "      <td>/C13_FastQuote_Main.jsp?txtBrokerId=IPO&amp;select...</td>\n",
       "    </tr>\n",
       "  </tbody>\n",
       "</table>\n",
       "</div>"
      ],
      "text/plain": [
       "    shortness                                            name_th group  \\\n",
       "33         2S                   บริษัท 2 เอส เมทัล จำกัด (มหาชน)   MAI   \n",
       "106         A           บริษัท อารียา พรอพเพอร์ตี้ จำกัด (มหาชน)   SET   \n",
       "107       AAV             บริษัท เอเชีย เอวิเอชั่น จำกัด (มหาชน)   SET   \n",
       "146     ABICO             บริษัท เอบิโก้ โฮลดิ้งส์ จำกัด (มหาชน)   MAI   \n",
       "108     ABPIF  กองทุนรวมโครงสร้างพื้นฐานโรงไฟฟ้า อมตะ บี.กริม...   SET   \n",
       "\n",
       "                                                   url  \n",
       "33   /C13_FastQuote_Main.jsp?txtBrokerId=IPO&select...  \n",
       "106  /C13_FastQuote_Main.jsp?txtBrokerId=IPO&select...  \n",
       "107  /C13_FastQuote_Main.jsp?txtBrokerId=IPO&select...  \n",
       "146  /C13_FastQuote_Main.jsp?txtBrokerId=IPO&select...  \n",
       "108  /C13_FastQuote_Main.jsp?txtBrokerId=IPO&select...  "
      ]
     },
     "execution_count": 118,
     "metadata": {},
     "output_type": "execute_result"
    }
   ],
   "source": [
    "pd.set_option('display.max_columns', None) #ไม่ให้มันย่อ column เป็น ...\n",
    "set_lists.head()"
   ]
  },
  {
   "cell_type": "code",
   "execution_count": 119,
   "metadata": {},
   "outputs": [
    {
     "data": {
      "text/plain": [
       "group\n",
       "MAI    145\n",
       "SET    583\n",
       "Name: shortness, dtype: int64"
      ]
     },
     "execution_count": 119,
     "metadata": {},
     "output_type": "execute_result"
    }
   ],
   "source": [
    "grouped = set_lists.groupby('group') # SET & MAI\n",
    "type_num = grouped['shortness'].count()\n",
    "type_num"
   ]
  },
  {
   "cell_type": "code",
   "execution_count": 165,
   "metadata": {
    "scrolled": false
   },
   "outputs": [],
   "source": [
    "set_table = grouped.get_group('SET')\n",
    "mai_table = grouped.get_group('MAI')"
   ]
  },
  {
   "cell_type": "code",
   "execution_count": 173,
   "metadata": {
    "scrolled": false
   },
   "outputs": [
    {
     "name": "stdout",
     "output_type": "stream",
     "text": [
      "Number of row : 583\n"
     ]
    },
    {
     "data": {
      "text/html": [
       "<div>\n",
       "<style>\n",
       "    .dataframe thead tr:only-child th {\n",
       "        text-align: right;\n",
       "    }\n",
       "\n",
       "    .dataframe thead th {\n",
       "        text-align: left;\n",
       "    }\n",
       "\n",
       "    .dataframe tbody tr th {\n",
       "        vertical-align: top;\n",
       "    }\n",
       "</style>\n",
       "<table border=\"1\" class=\"dataframe\">\n",
       "  <thead>\n",
       "    <tr style=\"text-align: right;\">\n",
       "      <th></th>\n",
       "      <th>name_th</th>\n",
       "      <th>shortness</th>\n",
       "      <th>url</th>\n",
       "    </tr>\n",
       "  </thead>\n",
       "  <tbody>\n",
       "    <tr>\n",
       "      <th>106</th>\n",
       "      <td>บริษัท อารียา พรอพเพอร์ตี้ จำกัด (มหาชน)</td>\n",
       "      <td>A</td>\n",
       "      <td>/C13_FastQuote_Main.jsp?txtBrokerId=IPO&amp;select...</td>\n",
       "    </tr>\n",
       "    <tr>\n",
       "      <th>107</th>\n",
       "      <td>บริษัท เอเชีย เอวิเอชั่น จำกัด (มหาชน)</td>\n",
       "      <td>AAV</td>\n",
       "      <td>/C13_FastQuote_Main.jsp?txtBrokerId=IPO&amp;select...</td>\n",
       "    </tr>\n",
       "    <tr>\n",
       "      <th>108</th>\n",
       "      <td>กองทุนรวมโครงสร้างพื้นฐานโรงไฟฟ้า อมตะ บี.กริม...</td>\n",
       "      <td>ABPIF</td>\n",
       "      <td>/C13_FastQuote_Main.jsp?txtBrokerId=IPO&amp;select...</td>\n",
       "    </tr>\n",
       "    <tr>\n",
       "      <th>109</th>\n",
       "      <td>บริษัท แอดวานซ์ คอนเนคชั่น คอร์ปอเรชั่น จำกัด ...</td>\n",
       "      <td>ACC</td>\n",
       "      <td>/C13_FastQuote_Main.jsp?txtBrokerId=IPO&amp;select...</td>\n",
       "    </tr>\n",
       "    <tr>\n",
       "      <th>110</th>\n",
       "      <td>บริษัท แอดวานซ์ อินโฟร์ เซอร์วิส จำกัด (มหาชน)</td>\n",
       "      <td>ADVANC</td>\n",
       "      <td>/C13_FastQuote_Main.jsp?txtBrokerId=IPO&amp;select...</td>\n",
       "    </tr>\n",
       "  </tbody>\n",
       "</table>\n",
       "</div>"
      ],
      "text/plain": [
       "                                               name_th shortness  \\\n",
       "106           บริษัท อารียา พรอพเพอร์ตี้ จำกัด (มหาชน)         A   \n",
       "107             บริษัท เอเชีย เอวิเอชั่น จำกัด (มหาชน)       AAV   \n",
       "108  กองทุนรวมโครงสร้างพื้นฐานโรงไฟฟ้า อมตะ บี.กริม...     ABPIF   \n",
       "109  บริษัท แอดวานซ์ คอนเนคชั่น คอร์ปอเรชั่น จำกัด ...       ACC   \n",
       "110     บริษัท แอดวานซ์ อินโฟร์ เซอร์วิส จำกัด (มหาชน)    ADVANC   \n",
       "\n",
       "                                                   url  \n",
       "106  /C13_FastQuote_Main.jsp?txtBrokerId=IPO&select...  \n",
       "107  /C13_FastQuote_Main.jsp?txtBrokerId=IPO&select...  \n",
       "108  /C13_FastQuote_Main.jsp?txtBrokerId=IPO&select...  \n",
       "109  /C13_FastQuote_Main.jsp?txtBrokerId=IPO&select...  \n",
       "110  /C13_FastQuote_Main.jsp?txtBrokerId=IPO&select...  "
      ]
     },
     "execution_count": 173,
     "metadata": {},
     "output_type": "execute_result"
    }
   ],
   "source": [
    "print('Number of row : '+str(len(set_table)))\n",
    "set_table.head()"
   ]
  },
  {
   "cell_type": "code",
   "execution_count": 174,
   "metadata": {
    "scrolled": false
   },
   "outputs": [
    {
     "name": "stdout",
     "output_type": "stream",
     "text": [
      "Number of row : 145\n"
     ]
    },
    {
     "data": {
      "text/html": [
       "<div>\n",
       "<style>\n",
       "    .dataframe thead tr:only-child th {\n",
       "        text-align: right;\n",
       "    }\n",
       "\n",
       "    .dataframe thead th {\n",
       "        text-align: left;\n",
       "    }\n",
       "\n",
       "    .dataframe tbody tr th {\n",
       "        vertical-align: top;\n",
       "    }\n",
       "</style>\n",
       "<table border=\"1\" class=\"dataframe\">\n",
       "  <thead>\n",
       "    <tr style=\"text-align: right;\">\n",
       "      <th></th>\n",
       "      <th>name_th</th>\n",
       "      <th>shortness</th>\n",
       "      <th>url</th>\n",
       "    </tr>\n",
       "  </thead>\n",
       "  <tbody>\n",
       "    <tr>\n",
       "      <th>33</th>\n",
       "      <td>บริษัท 2 เอส เมทัล จำกัด (มหาชน)</td>\n",
       "      <td>2S</td>\n",
       "      <td>/C13_FastQuote_Main.jsp?txtBrokerId=IPO&amp;select...</td>\n",
       "    </tr>\n",
       "    <tr>\n",
       "      <th>146</th>\n",
       "      <td>บริษัท เอบิโก้ โฮลดิ้งส์ จำกัด (มหาชน)</td>\n",
       "      <td>ABICO</td>\n",
       "      <td>/C13_FastQuote_Main.jsp?txtBrokerId=IPO&amp;select...</td>\n",
       "    </tr>\n",
       "    <tr>\n",
       "      <th>147</th>\n",
       "      <td>บริษัท เอเชีย แคปปิตอล กรุ๊ป จำกัด (มหาชน)</td>\n",
       "      <td>ACAP</td>\n",
       "      <td>/C13_FastQuote_Main.jsp?txtBrokerId=IPO&amp;select...</td>\n",
       "    </tr>\n",
       "    <tr>\n",
       "      <th>148</th>\n",
       "      <td>บริษัท แอ็พพลาย ดีบี จำกัด (มหาชน)</td>\n",
       "      <td>ADB</td>\n",
       "      <td>/C13_FastQuote_Main.jsp?txtBrokerId=IPO&amp;select...</td>\n",
       "    </tr>\n",
       "    <tr>\n",
       "      <th>149</th>\n",
       "      <td>บริษัท ไอร่า แฟคตอริ่ง จำกัด (มหาชน)</td>\n",
       "      <td>AF</td>\n",
       "      <td>/C13_FastQuote_Main.jsp?txtBrokerId=IPO&amp;select...</td>\n",
       "    </tr>\n",
       "  </tbody>\n",
       "</table>\n",
       "</div>"
      ],
      "text/plain": [
       "                                        name_th shortness  \\\n",
       "33             บริษัท 2 เอส เมทัล จำกัด (มหาชน)        2S   \n",
       "146      บริษัท เอบิโก้ โฮลดิ้งส์ จำกัด (มหาชน)     ABICO   \n",
       "147  บริษัท เอเชีย แคปปิตอล กรุ๊ป จำกัด (มหาชน)      ACAP   \n",
       "148          บริษัท แอ็พพลาย ดีบี จำกัด (มหาชน)       ADB   \n",
       "149        บริษัท ไอร่า แฟคตอริ่ง จำกัด (มหาชน)        AF   \n",
       "\n",
       "                                                   url  \n",
       "33   /C13_FastQuote_Main.jsp?txtBrokerId=IPO&select...  \n",
       "146  /C13_FastQuote_Main.jsp?txtBrokerId=IPO&select...  \n",
       "147  /C13_FastQuote_Main.jsp?txtBrokerId=IPO&select...  \n",
       "148  /C13_FastQuote_Main.jsp?txtBrokerId=IPO&select...  \n",
       "149  /C13_FastQuote_Main.jsp?txtBrokerId=IPO&select...  "
      ]
     },
     "execution_count": 174,
     "metadata": {},
     "output_type": "execute_result"
    }
   ],
   "source": [
    "print('Number of row : '+str(len(mai_table)))\n",
    "mai_table.head()"
   ]
  },
  {
   "cell_type": "code",
   "execution_count": null,
   "metadata": {
    "collapsed": true
   },
   "outputs": [],
   "source": []
  }
 ],
 "metadata": {
  "kernelspec": {
   "display_name": "Python 3",
   "language": "python",
   "name": "python3"
  },
  "language_info": {
   "codemirror_mode": {
    "name": "ipython",
    "version": 3
   },
   "file_extension": ".py",
   "mimetype": "text/x-python",
   "name": "python",
   "nbconvert_exporter": "python",
   "pygments_lexer": "ipython3",
   "version": "3.6.3"
  }
 },
 "nbformat": 4,
 "nbformat_minor": 2
}
