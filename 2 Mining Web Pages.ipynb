{
 "cells": [
  {
   "cell_type": "markdown",
   "metadata": {},
   "source": [
    "# Mining Web Pages \n",
    "\n",
    "Using Natural Language Processing to Understand Human Language, Summarize Blog Posts, and More\n",
    "\n",
    "### Overview\n",
    "- Scraping, Parsing, and Crawling the Web\n",
    "    - Breadth-First Search in Web Crawling\n",
    "- Discovering Semantics by Decoding Syntax\n",
    "    - Natural Language Processing Illustrated Step-by-Step\n",
    "    - Sentence Detection in Human Language Data\n",
    "    - Document Summarization (Analysis of Luhn’s summarization algorithm)\n",
    "- Entity-Centric Analysis: A Paradigm Shift\n",
    "    - Gisting Human Language Data\n",
    "- Quality of Analytics for Processing Human Language Data\n",
    "\n",
    "### Process\n",
    "* Fetching web pages and extracting the human language data from them\n",
    "* Leveraging NLTK for completing fundamental tasks in natural language processing\n",
    "* Contextually driven analysis in NLP\n",
    "* Using NLP to complete analytical tasks such as generating document abstracts\n",
    "* Metrics for measuring quality for domains that involve predictive analysis"
   ]
  },
  {
   "cell_type": "markdown",
   "metadata": {},
   "source": [
    "# Scraping & Parsing\n",
    "\n",
    "ในส่วนนี้จะเป็นการ ขูดเนื้อหาจากหน้าเว็บไซต์ เช่น Pantip.com, Set.or.th ฯลฯ เพื่อนำข้อมูลมาวิเคราะห์หาผลประโยชน์ต่อไป"
   ]
  },
  {
   "cell_type": "markdown",
   "metadata": {},
   "source": [
    "## วิธีที่ 1 BeautifulSoup (great for small-scale)"
   ]
  },
  {
   "cell_type": "code",
   "execution_count": 27,
   "metadata": {
    "scrolled": false
   },
   "outputs": [
    {
     "name": "stdout",
     "output_type": "stream",
     "text": [
      "S&P 500 Index\n",
      "2,683.34\n"
     ]
    }
   ],
   "source": [
    "from urllib.request import urlopen\n",
    "from bs4 import BeautifulSoup\n",
    "\n",
    "# specify the url\n",
    "quote_page = 'http://www.bloomberg.com/quote/SPX:IND'\n",
    "\n",
    "# query the website and return the html to the variable ‘page’\n",
    "page = urlopen(quote_page)\n",
    "\n",
    "# parse the html using beautiful soup and store in variable `soup`\n",
    "soup = BeautifulSoup(page, 'html.parser')\n",
    "\n",
    "# Take out the <div> of name and get its value\n",
    "name_box = soup.find('h1', attrs={'class': 'name'})\n",
    "name = name_box.text.strip() # strip() is used to remove starting and trailing\n",
    "print(name)\n",
    "\n",
    "# get the index price\n",
    "price_box = soup.find('div', attrs={'class': 'price'})\n",
    "price = price_box.text.strip()\n",
    "print(price)"
   ]
  },
  {
   "cell_type": "markdown",
   "metadata": {},
   "source": [
    "### Export to Excel CSV"
   ]
  },
  {
   "cell_type": "code",
   "execution_count": 28,
   "metadata": {
    "collapsed": true
   },
   "outputs": [],
   "source": [
    "import csv\n",
    "from datetime import datetime\n",
    "\n",
    "# open a csv file with append, so old data will not be erased\n",
    "with open('file_output/stock.csv', 'a') as csv_file:\n",
    "    writer = csv.writer(csv_file)\n",
    "    writer.writerow([name, price, datetime.now()])"
   ]
  },
  {
   "cell_type": "markdown",
   "metadata": {},
   "source": [
    "### Multiple Indices"
   ]
  },
  {
   "cell_type": "code",
   "execution_count": 33,
   "metadata": {},
   "outputs": [
    {
     "data": {
      "text/plain": [
       "[('S&P 500 Index', '2,683.34'), ('NASDAQ Composite Index', '6,959.96')]"
      ]
     },
     "execution_count": 33,
     "metadata": {},
     "output_type": "execute_result"
    }
   ],
   "source": [
    "from urllib.request import urlopen\n",
    "from bs4 import BeautifulSoup\n",
    "\n",
    "# specify the url\n",
    "quote_page = ['http://www.bloomberg.com/quote/SPX:IND', 'http://www.bloomberg.com/quote/CCMP:IND']\n",
    "\n",
    "# for loop\n",
    "data = []\n",
    "\n",
    "for pg in quote_page:\n",
    "    # query the website and return the html to the variable ‘page’\n",
    "    page = urlopen(pg)\n",
    "    \n",
    "    # parse the html using beautiful soap and store in variable `soup`\n",
    "    soup = BeautifulSoup(page, 'html.parser')\n",
    "    \n",
    "    # Take out the <div> of name and get its value\n",
    "    name_box = soup.find('h1', attrs={'class': 'name'})\n",
    "    name = name_box.text.strip() # strip() is used to remove starting and trailing\n",
    "\n",
    "    # get the index price\n",
    "    price_box = soup.find('div', attrs={'class':'price'})\n",
    "    price = price_box.text.strip()\n",
    "    # save the data in tuple\n",
    "    data.append((name, price))\n",
    "    \n",
    "data"
   ]
  },
  {
   "cell_type": "code",
   "execution_count": 36,
   "metadata": {
    "collapsed": true
   },
   "outputs": [],
   "source": [
    "# open a csv file with append, so old data will not be erased\n",
    "with open('file_output/stock.csv','a') as csv_file:\n",
    "    writer = csv.writer(csv_file)\n",
    "    # The for loop\n",
    "    for name, price in data:\n",
    "        writer.writerow([name, price, datetime.now()])"
   ]
  },
  {
   "cell_type": "code",
   "execution_count": null,
   "metadata": {
    "collapsed": true
   },
   "outputs": [],
   "source": []
  }
 ],
 "metadata": {
  "kernelspec": {
   "display_name": "Python 3",
   "language": "python",
   "name": "python3"
  },
  "language_info": {
   "codemirror_mode": {
    "name": "ipython",
    "version": 3
   },
   "file_extension": ".py",
   "mimetype": "text/x-python",
   "name": "python",
   "nbconvert_exporter": "python",
   "pygments_lexer": "ipython3",
   "version": "3.6.3"
  }
 },
 "nbformat": 4,
 "nbformat_minor": 2
}
